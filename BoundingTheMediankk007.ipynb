{
 "cells": [
  {
   "cell_type": "code",
   "execution_count": 1,
   "metadata": {
    "colab": {
     "base_uri": "https://localhost:8080/"
    },
    "id": "bep-OUMnn6Cz",
    "outputId": "e4122fb9-bdcd-43a8-99ba-3cf4836ecd7a"
   },
   "outputs": [
    {
     "name": "stdout",
     "output_type": "stream",
     "text": [
      "Looking in indexes: https://pypi.org/simple, https://us-python.pkg.dev/colab-wheels/public/simple/\n",
      "Requirement already satisfied: cvxpy in /usr/local/lib/python3.7/dist-packages (1.2.1)\n",
      "Requirement already satisfied: numpy>=1.15 in /usr/local/lib/python3.7/dist-packages (from cvxpy) (1.21.6)\n",
      "Requirement already satisfied: scipy>=1.1.0 in /usr/local/lib/python3.7/dist-packages (from cvxpy) (1.7.3)\n",
      "Requirement already satisfied: ecos>=2 in /usr/local/lib/python3.7/dist-packages (from cvxpy) (2.0.10)\n",
      "Requirement already satisfied: scs>=1.1.6 in /usr/local/lib/python3.7/dist-packages (from cvxpy) (3.2.0)\n",
      "Requirement already satisfied: osqp>=0.4.1 in /usr/local/lib/python3.7/dist-packages (from cvxpy) (0.6.2.post0)\n",
      "Requirement already satisfied: qdldl in /usr/local/lib/python3.7/dist-packages (from osqp>=0.4.1->cvxpy) (0.1.5.post2)\n"
     ]
    }
   ],
   "source": [
    "pip install cvxpy"
   ]
  },
  {
   "cell_type": "code",
   "execution_count": 2,
   "metadata": {
    "id": "GNaNcvINn889"
   },
   "outputs": [],
   "source": [
    "import cvxpy as cp\n",
    "import numpy as np\n",
    "import matplotlib.pyplot as plt\n",
    "import random"
   ]
  },
  {
   "cell_type": "code",
   "execution_count": 3,
   "metadata": {
    "id": "wvzkLB9Wmfvw"
   },
   "outputs": [],
   "source": [
    "N = 300\n",
    "x_k = np.linspace(-3, 3, N)\n",
    "p = cp.Variable(N)"
   ]
  },
  {
   "cell_type": "code",
   "execution_count": 4,
   "metadata": {
    "id": "RAj-sB02lrRU"
   },
   "outputs": [],
   "source": [
    "objective = cp.Minimize(0)"
   ]
  },
  {
   "cell_type": "code",
   "execution_count": 5,
   "metadata": {
    "id": "b9vFaXSFmWsI"
   },
   "outputs": [],
   "source": [
    "constraints = [\n",
    "    cp.sum(p) == 1,\n",
    "    p @ x_k == 0,\n",
    "    p @ cp.power(x_k, 2) == 1,\n",
    "    p @ cp.power(x_k, 3) == 1,\n",
    "    p >= 0,\n",
    "    p[0] == random.uniform(0.0001, 0.001) # Randomness to generate new probability distributions each time\n",
    "]"
   ]
  },
  {
   "cell_type": "code",
   "execution_count": 6,
   "metadata": {
    "id": "dG8T2jUPx1AI"
   },
   "outputs": [],
   "source": [
    "problem = cp.Problem(objective, constraints)\n",
    "result = problem.solve()"
   ]
  },
  {
   "cell_type": "markdown",
   "metadata": {
    "id": "dLCOj_Ndu-2G"
   },
   "source": [
    "A random p.m.f is: (interpolated by matplotlib)"
   ]
  },
  {
   "cell_type": "code",
   "execution_count": 7,
   "metadata": {
    "colab": {
     "base_uri": "https://localhost:8080/",
     "height": 284
    },
    "id": "3PMT90aKtrU2",
    "outputId": "1fc75c71-888e-4552-d1eb-37919e367dba"
   },
   "outputs": [
    {
     "data": {
      "text/plain": [
       "[<matplotlib.lines.Line2D at 0x7fa47baf9390>]"
      ]
     },
     "execution_count": 7,
     "metadata": {},
     "output_type": "execute_result"
    },
    {
     "data": {
      "image/png": "[encoded data removed]",
      "text/plain": [
       "<Figure size 432x288 with 1 Axes>"
      ]
     },
     "metadata": {
      "needs_background": "light"
     },
     "output_type": "display_data"
    }
   ],
   "source": [
    "plt.plot(p.value)"
   ]
  },
  {
   "cell_type": "markdown",
   "metadata": {
    "id": "LOdgBWIqvCwu"
   },
   "source": [
    "A random c.d.f. is:"
   ]
  },
  {
   "cell_type": "code",
   "execution_count": 8,
   "metadata": {
    "colab": {
     "base_uri": "https://localhost:8080/",
     "height": 282
    },
    "id": "pL8kbYLXvE4a",
    "outputId": "9006da51-e418-4e20-e396-de9432effc12"
   },
   "outputs": [
    {
     "data": {
      "text/plain": [
       "[<matplotlib.lines.Line2D at 0x7fa47b5dc3d0>]"
      ]
     },
     "execution_count": 8,
     "metadata": {},
     "output_type": "execute_result"
    },
    {
     "data": {
      "image/png": "[encoded data removed]",
      "text/plain": [
       "<Figure size 432x288 with 1 Axes>"
      ]
     },
     "metadata": {
      "needs_background": "light"
     },
     "output_type": "display_data"
    }
   ],
   "source": [
    "plt.plot(np.cumsum(p.value))"
   ]
  },
  {
   "cell_type": "code",
   "execution_count": 9,
   "metadata": {
    "colab": {
     "base_uri": "https://localhost:8080/"
    },
    "id": "8D98-4WooVra",
    "outputId": "306f3afd-43bc-4d97-dbc2-9ecb36cdb3ec"
   },
   "outputs": [
    {
     "name": "stdout",
     "output_type": "stream",
     "text": [
      "Median is -0.25083612040133785 at index 137\n"
     ]
    }
   ],
   "source": [
    "summe = 0\n",
    "\n",
    "run = 0\n",
    "while summe <= .5:\n",
    "  summe += p.value[run]\n",
    "  run +=1\n",
    "\n",
    "print(\"Median is\", x_k[run], \"at index\", run)"
   ]
  }
 ],
 "metadata": {
  "colab": {
   "collapsed_sections": [],
   "name": "BoundingTheMedian.ipynb",
   "provenance": []
  },
  "kernelspec": {
   "display_name": "Python 3 (ipykernel)",
   "language": "python",
   "name": "python3"
  },
  "language_info": {
   "codemirror_mode": {
    "name": "ipython",
    "version": 3
   },
   "file_extension": ".py",
   "mimetype": "text/x-python",
   "name": "python",
   "nbconvert_exporter": "python",
   "pygments_lexer": "ipython3",
   "version": "3.10.2"
  }
 },
 "nbformat": 4,
 "nbformat_minor": 1
}
