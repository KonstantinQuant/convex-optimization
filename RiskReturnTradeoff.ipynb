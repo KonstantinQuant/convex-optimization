{
  "nbformat": 4,
  "nbformat_minor": 0,
  "metadata": {
    "colab": {
      "name": "Risk-return tradeoff",
      "provenance": [],
      "collapsed_sections": []
    },
    "kernelspec": {
      "name": "python3",
      "display_name": "Python 3"
    },
    "language_info": {
      "name": "python"
    }
  },
  "cells": [
    {
      "cell_type": "code",
      "execution_count": null,
      "metadata": {
        "colab": {
          "base_uri": "https://localhost:8080/"
        },
        "id": "6F5u_aqXODHx",
        "outputId": "f7be5d88-61f0-4b63-feae-caf4adb4355f"
      },
      "outputs": [
        {
          "output_type": "stream",
          "name": "stdout",
          "text": [
            "Looking in indexes: https://pypi.org/simple, https://us-python.pkg.dev/colab-wheels/public/simple/\n",
            "Requirement already satisfied: cvxpy in /usr/local/lib/python3.7/dist-packages (1.2.1)\n",
            "Requirement already satisfied: numpy>=1.15 in /usr/local/lib/python3.7/dist-packages (from cvxpy) (1.21.6)\n",
            "Requirement already satisfied: scs>=1.1.6 in /usr/local/lib/python3.7/dist-packages (from cvxpy) (3.2.0)\n",
            "Requirement already satisfied: ecos>=2 in /usr/local/lib/python3.7/dist-packages (from cvxpy) (2.0.10)\n",
            "Requirement already satisfied: scipy>=1.1.0 in /usr/local/lib/python3.7/dist-packages (from cvxpy) (1.7.3)\n",
            "Requirement already satisfied: osqp>=0.4.1 in /usr/local/lib/python3.7/dist-packages (from cvxpy) (0.6.2.post0)\n",
            "Requirement already satisfied: qdldl in /usr/local/lib/python3.7/dist-packages (from osqp>=0.4.1->cvxpy) (0.1.5.post2)\n"
          ]
        }
      ],
      "source": [
        "pip install cvxpy"
      ]
    },
    {
      "cell_type": "code",
      "source": [
        "import numpy as np\n",
        "import cvxpy as cp\n",
        "import matplotlib.pyplot as plt\n",
        "import pandas as pd\n",
        "\n",
        "from scipy.stats import norm\n",
        "from scipy.linalg import sqrtm"
      ],
      "metadata": {
        "id": "GNs2C6TXOHal"
      },
      "execution_count": null,
      "outputs": []
    },
    {
      "cell_type": "code",
      "source": [
        "n = 4"
      ],
      "metadata": {
        "id": "jWiURgFZOb9C"
      },
      "execution_count": null,
      "outputs": []
    },
    {
      "cell_type": "code",
      "source": [
        "x = cp.Variable(n)\n",
        "\n",
        "p = np.array([.12, .10, .07, .03]) # generally, p is a random process measuring price differences\n",
        "S = np.array([[.0064, .0008, -.0011, .0], [.0008, .0025, .0, .0], [-.0011, .0, .0004, .0],[.0, .0, .0, .0]]) # covariance matrix of return ts\n",
        "\n",
        "mus = np.logspace(1, 7, num=100)\n",
        "ret = list()\n",
        "sd = list()\n",
        "xvals = list()"
      ],
      "metadata": {
        "id": "VDj61_5aOOcr"
      },
      "execution_count": null,
      "outputs": []
    },
    {
      "cell_type": "code",
      "source": [
        "for mu in mus: \n",
        "  prob = cp.Problem(cp.Minimize(-p.T @ x + mu * cp.quad_form(x, S)), [cp.sum(x) == 1, x >= 0])\n",
        "  prob.solve()\n",
        "  xvals.append(x.value)\n",
        "  ret.append(p.T @ x.value)\n",
        "  sd.append(np.sqrt(x.value.T @ S @ x.value))"
      ],
      "metadata": {
        "id": "GI-cr8C5O-_2"
      },
      "execution_count": null,
      "outputs": []
    },
    {
      "cell_type": "code",
      "source": [
        "plt.plot(sd, ret)\n",
        "plt.ylabel('mean return')\n",
        "plt.xlabel('standard deviation of return')\n",
        "_ = plt.show()"
      ],
      "metadata": {
        "colab": {
          "base_uri": "https://localhost:8080/",
          "height": 279
        },
        "id": "pAO1GG8HUqU7",
        "outputId": "1d12956c-fd8e-4df7-c7c1-9be202312254"
      },
      "execution_count": null,
      "outputs": [
        {
          "output_type": "display_data",
          "data": {
            "text/plain": [
              "<Figure size 432x288 with 1 Axes>"
            ],
            "image/png": "[encoded data removed]"
          },
          "metadata": {
            "needs_background": "light"
          }
        }
      ]
    },
    {
      "cell_type": "code",
      "source": [
        "plt.plot(sd, pd.DataFrame(xvals)[1])\n",
        "plt.plot(sd, pd.DataFrame(xvals)[1]+pd.DataFrame(xvals)[2].T)\n",
        "plt.plot(sd, pd.DataFrame(xvals)[1]+pd.DataFrame(xvals)[2]+pd.DataFrame(xvals)[3].T)"
      ],
      "metadata": {
        "colab": {
          "base_uri": "https://localhost:8080/",
          "height": 282
        },
        "id": "23zui7GuWV7o",
        "outputId": "ed7c0ab7-5294-4cac-a3a6-e3d72847a822"
      },
      "execution_count": null,
      "outputs": [
        {
          "output_type": "execute_result",
          "data": {
            "text/plain": [
              "[<matplotlib.lines.Line2D at 0x7f18a03f4150>]"
            ]
          },
          "metadata": {},
          "execution_count": 7
        },
        {
          "output_type": "display_data",
          "data": {
            "text/plain": [
              "<Figure size 432x288 with 1 Axes>"
            ],
            "image/png": "[encoded data removed]"
          },
          "metadata": {
            "needs_background": "light"
          }
        }
      ]
    },
    {
      "cell_type": "code",
      "source": [
        ""
      ],
      "metadata": {
        "id": "N8xFPWKDZER_"
      },
      "execution_count": null,
      "outputs": []
    },
    {
      "cell_type": "markdown",
      "source": [
        "b)"
      ],
      "metadata": {
        "id": "svnLGFJmeac4"
      }
    },
    {
      "cell_type": "code",
      "source": [
        "pip install cvxpy"
      ],
      "metadata": {
        "colab": {
          "base_uri": "https://localhost:8080/"
        },
        "id": "dcie_lxmiyjc",
        "outputId": "c5760cf4-f8dc-47ec-a4fd-1d09cebb049d"
      },
      "execution_count": null,
      "outputs": [
        {
          "output_type": "stream",
          "name": "stdout",
          "text": [
            "Looking in indexes: https://pypi.org/simple, https://us-python.pkg.dev/colab-wheels/public/simple/\n",
            "Requirement already satisfied: cvxpy in /usr/local/lib/python3.7/dist-packages (1.2.1)\n",
            "Requirement already satisfied: scipy>=1.1.0 in /usr/local/lib/python3.7/dist-packages (from cvxpy) (1.7.3)\n",
            "Requirement already satisfied: scs>=1.1.6 in /usr/local/lib/python3.7/dist-packages (from cvxpy) (3.2.0)\n",
            "Requirement already satisfied: osqp>=0.4.1 in /usr/local/lib/python3.7/dist-packages (from cvxpy) (0.6.2.post0)\n",
            "Requirement already satisfied: numpy>=1.15 in /usr/local/lib/python3.7/dist-packages (from cvxpy) (1.21.6)\n",
            "Requirement already satisfied: ecos>=2 in /usr/local/lib/python3.7/dist-packages (from cvxpy) (2.0.10)\n",
            "Requirement already satisfied: qdldl in /usr/local/lib/python3.7/dist-packages (from osqp>=0.4.1->cvxpy) (0.1.5.post2)\n"
          ]
        }
      ]
    },
    {
      "cell_type": "code",
      "source": [
        "import numpy as np\n",
        "import cvxpy as cp\n",
        "import matplotlib.pyplot as plt\n",
        "import pandas as pd\n",
        "\n",
        "from scipy.stats import norm\n",
        "from scipy.linalg import sqrtm"
      ],
      "metadata": {
        "id": "ZUVrXEfEiyGm"
      },
      "execution_count": null,
      "outputs": []
    },
    {
      "cell_type": "code",
      "source": [
        "etas = np.logspace(-4, -1, 100)\n",
        "beta = .0\n",
        "p = np.array([.12, .10, .07, .03])\n",
        "S = np.array([[.0064, .0008, -.0011, .0], [.0008, .0025, .0, .0], [-.0011, .0, .0004, .0],[.0, .0, .0, .0]])\n",
        "sqrtS = sqrtm(S)\n",
        "y = cp.Variable(4)\n",
        "rets = list()"
      ],
      "metadata": {
        "id": "f1D52Tddeas0"
      },
      "execution_count": null,
      "outputs": []
    },
    {
      "cell_type": "code",
      "source": [
        "for eta in etas:\n",
        "  prob = cp.Problem(cp.Maximize(p.T @ y), [p.T @ y + norm.ppf(eta)*cp.norm(sqrtS@y, 2) >= beta, cp.sum(y) == 1, y >= 0])\n",
        "  prob.solve()\n",
        "  rets.append(p.T @ y.value)"
      ],
      "metadata": {
        "id": "680YlsegeoN5"
      },
      "execution_count": null,
      "outputs": []
    },
    {
      "cell_type": "code",
      "source": [
        "plt.plot(etas, rets)"
      ],
      "metadata": {
        "colab": {
          "base_uri": "https://localhost:8080/",
          "height": 282
        },
        "id": "YO4ORfZKepXI",
        "outputId": "fad22a16-51b3-4384-caf5-95325f6f28a8"
      },
      "execution_count": null,
      "outputs": [
        {
          "output_type": "execute_result",
          "data": {
            "text/plain": [
              "[<matplotlib.lines.Line2D at 0x7f1e144060d0>]"
            ]
          },
          "metadata": {},
          "execution_count": 19
        },
        {
          "output_type": "display_data",
          "data": {
            "text/plain": [
              "<Figure size 432x288 with 1 Axes>"
            ],
            "image/png": "[encoded data removed]"
          },
          "metadata": {
            "needs_background": "light"
          }
        }
      ]
    },
    {
      "cell_type": "code",
      "source": [
        ""
      ],
      "metadata": {
        "id": "LEH-0y-kjsAd"
      },
      "execution_count": null,
      "outputs": []
    }
  ]
}