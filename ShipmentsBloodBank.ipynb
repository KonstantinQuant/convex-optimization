{
  "nbformat": 4,
  "nbformat_minor": 0,
  "metadata": {
    "colab": {
      "name": "ShipmentsBloodBank.ipynb",
      "provenance": [],
      "collapsed_sections": []
    },
    "kernelspec": {
      "name": "python3",
      "display_name": "Python 3"
    },
    "language_info": {
      "name": "python"
    }
  },
  "cells": [
    {
      "cell_type": "code",
      "execution_count": 1,
      "metadata": {
        "colab": {
          "base_uri": "https://localhost:8080/"
        },
        "id": "nmjc2FULJZfZ",
        "outputId": "812a8862-929f-429c-a09a-e50949a832ba"
      },
      "outputs": [
        {
          "output_type": "stream",
          "name": "stdout",
          "text": [
            "Looking in indexes: https://pypi.org/simple, https://us-python.pkg.dev/colab-wheels/public/simple/\n",
            "Requirement already satisfied: cvxpy in /usr/local/lib/python3.7/dist-packages (1.2.1)\n",
            "Requirement already satisfied: ecos>=2 in /usr/local/lib/python3.7/dist-packages (from cvxpy) (2.0.10)\n",
            "Requirement already satisfied: numpy>=1.15 in /usr/local/lib/python3.7/dist-packages (from cvxpy) (1.21.6)\n",
            "Requirement already satisfied: osqp>=0.4.1 in /usr/local/lib/python3.7/dist-packages (from cvxpy) (0.6.2.post0)\n",
            "Requirement already satisfied: scs>=1.1.6 in /usr/local/lib/python3.7/dist-packages (from cvxpy) (3.2.0)\n",
            "Requirement already satisfied: scipy>=1.1.0 in /usr/local/lib/python3.7/dist-packages (from cvxpy) (1.7.3)\n",
            "Requirement already satisfied: qdldl in /usr/local/lib/python3.7/dist-packages (from osqp>=0.4.1->cvxpy) (0.1.5.post2)\n"
          ]
        }
      ],
      "source": [
        "pip install cvxpy"
      ]
    },
    {
      "cell_type": "code",
      "source": [
        "import cvxpy as cp\n",
        "import numpy as np\n",
        "import matplotlib.pyplot as plt"
      ],
      "metadata": {
        "id": "WLktK4-OJyRg"
      },
      "execution_count": 2,
      "outputs": []
    },
    {
      "cell_type": "markdown",
      "source": [
        "We can formulate the optimal policy problem for and shipments between two blood banks as the following convex optimization problem:\n",
        "\n",
        "$$\n",
        "\\begin{aligned}\n",
        "&\\text { minimize } \\quad \\kappa\\|t\\|_{1}+p^{\\top}\\left(B^{\\top} \\textbf{1}+\\tilde{B}^{\\top} \\textbf{1}\\right)\\\\\n",
        "&\\text { s.t. } \\quad \\quad B^{\\top} \\textbf{1} \\leq s^{+}, \\tilde{B}^{\\top} \\textbf{1} \\leq \\tilde{s}^{+}\\\\\n",
        "& \\quad \\quad \\quad \\quad   s^{+}=s-t, \\quad \\tilde{s}^{+}=\\tilde{s}+t\\\\\n",
        "& \\quad \\quad \\quad \\quad s^{*} \\geq 0 \\quad \\tilde{s}^{+} \\geq 0\\\\\n",
        "& \\quad \\quad \\quad \\quad B \\textbf{1} \\geq d \\quad \\tilde{B}_{1} \\textbf{1} \\geq \\tilde{d}\n",
        "\\end{aligned}\n",
        "$$\n",
        "\n",
        "where\n",
        "\n",
        "$d \\in \\mathbf{R}_{+}^{4}$, $\\tilde{d} \\in \\mathbf{R}_{+}^{4}$, $s \\in \\mathbf{R}_{+}^{4}$, $ \\tilde{s} \\in \\mathbf{R}_{+}^{4}$, $\\tilde{B} \\in \\mathbf{R}_{+}^{4 \\times 4}$, $B \\in \\mathbf{R}_{+}^{4 \\times 4}$, $t \\in \\mathbf{R}^{4}$\n",
        "\n",
        "\n",
        "b) Now, we solve the problem with the following data: \n",
        "\n",
        "$$\n",
        "p=\\left[\\begin{array}{l}\n",
        "4 \\\\\n",
        "2 \\\\\n",
        "2 \\\\\n",
        "1\n",
        "\\end{array}\\right], \\quad d=\\left[\\begin{array}{c}\n",
        "20 \\\\\n",
        "5 \\\\\n",
        "10 \\\\\n",
        "15\n",
        "\\end{array}\\right], \\quad s=\\left[\\begin{array}{c}\n",
        "30 \\\\\n",
        "10 \\\\\n",
        "5 \\\\\n",
        "0\n",
        "\\end{array}\\right], \\quad \\tilde{d}=\\left[\\begin{array}{c}\n",
        "10 \\\\\n",
        "25 \\\\\n",
        "5 \\\\\n",
        "15\n",
        "\\end{array}\\right], \\quad \\tilde{s}=\\left[\\begin{array}{c}\n",
        "5 \\\\\n",
        "20 \\\\\n",
        "15 \\\\\n",
        "20\n",
        "\\end{array}\\right]\n",
        "$$"
      ],
      "metadata": {
        "id": "rj46RuzkQqCQ"
      }
    },
    {
      "cell_type": "markdown",
      "source": [
        "Setup"
      ],
      "metadata": {
        "id": "rvN-YVxsKOYq"
      }
    },
    {
      "cell_type": "code",
      "source": [
        "n = 4\n",
        "B = cp.Variable((n,n))\n",
        "B_tilde = cp.Variable((n,n))\n",
        "t = cp.Variable(shape=(n))\n",
        "\n",
        "\n",
        "k = .5\n",
        "p = np.array([4, 2, 2, 1])\n",
        "d = np.array([20, 5, 10, 15])\n",
        "s = np.array([30, 10, 5, 0])\n",
        "d_tilde = np.array([10, 25, 5, 15])\n",
        "s_tilde = np.array([5, 20, 15, 20])\n",
        "ones = np.ones(n)"
      ],
      "metadata": {
        "id": "ZWSsLpKFJ2yk"
      },
      "execution_count": 3,
      "outputs": []
    },
    {
      "cell_type": "markdown",
      "source": [
        "Convex Optimization Problem"
      ],
      "metadata": {
        "id": "Psy47laDwJUF"
      }
    },
    {
      "cell_type": "code",
      "source": [
        "objective = cp.Minimize(k * cp.norm(t,1) + p.T @ (B.T @ ones + B_tilde.T @ ones))\n",
        "\n",
        "constraints = [B.T @ ones <= s - t, \n",
        "               B_tilde.T @ ones <= s_tilde + t,\n",
        "               s - t >= 0,\n",
        "               s_tilde + t >= 0,\n",
        "               B @ ones >= d,\n",
        "               B_tilde @ ones >= d_tilde]\n",
        "               \n",
        "prob = cp.Problem(objective, constraints)\n",
        "result = prob.solve()\n",
        "print(\"The optimal cost is given by\", result)\n",
        "print(\"The optimal shipment vector t is given by\", t.value)\n",
        "print(\"The optimal policy B is given by\", B.value)\n",
        "print(\"The optimal policy B_tilde is given by\", B_tilde.value)"
      ],
      "metadata": {
        "colab": {
          "base_uri": "https://localhost:8080/"
        },
        "id": "bR1qvE3hJ7mc",
        "outputId": "0690268c-1e3a-4be3-a17c-a0b37d7419fc"
      },
      "execution_count": 4,
      "outputs": [
        {
          "output_type": "stream",
          "name": "stdout",
          "text": [
            "The optimal cost is given by 262.4999999001123\n",
            "The optimal shipment vector t is given by [-0.14619791 -1.22479343 -1.15184129 -2.47716738]\n",
            "The optimal policy B is given by [[ 9.41154947e+00  4.68119836e+00  3.41296032e+00  2.49429184e+00]\n",
            " [ 5.66154947e+00  9.31198357e-01 -3.37039677e-01 -1.25570816e+00]\n",
            " [ 6.91154947e+00  2.18119836e+00  9.12960323e-01 -5.70815512e-03]\n",
            " [ 8.16154947e+00  3.43119836e+00  2.16296033e+00  1.24429185e+00]]\n",
            "The optimal policy B_tilde is given by [[ 0.27595052  3.75630164  2.52453968  3.44320816]\n",
            " [ 4.02595052  7.50630164  6.27453968  7.19320816]\n",
            " [-0.97404948  2.50630164  1.27453968  2.19320816]\n",
            " [ 1.52595052  5.00630164  3.77453968  4.69320816]]\n"
          ]
        }
      ]
    },
    {
      "cell_type": "markdown",
      "source": [
        "In the above we see the optimial shipment vector $\\textbf{t}$ and the optimal policies $\\textbf{B}$ and $\\tilde{B}$ as well as the optimal cost."
      ],
      "metadata": {
        "id": "CNFupiLjtTpo"
      }
    },
    {
      "cell_type": "markdown",
      "source": [
        "Now, if we set $t=0$, i.e. shipments are not allowed, we can verify that the problem is then infeasible."
      ],
      "metadata": {
        "id": "Dnas0jApv2zC"
      }
    },
    {
      "cell_type": "code",
      "source": [
        "t = 0"
      ],
      "metadata": {
        "id": "WGzc7rGbRewy"
      },
      "execution_count": 5,
      "outputs": []
    },
    {
      "cell_type": "code",
      "source": [
        "objective = cp.Minimize(k * cp.norm(t,1) + p.T @ (B.T @ ones + B_tilde.T @ ones))\n",
        "\n",
        "constraints = [B.T @ ones <= s - t, \n",
        "               B_tilde.T @ ones <= s_tilde + t,\n",
        "               s - t >= 0,\n",
        "               s_tilde + t >= 0,\n",
        "               B @ ones >= d,\n",
        "               B_tilde @ ones >= d_tilde]\n",
        "               \n",
        "prob = cp.Problem(objective, constraints)\n",
        "prob.solve()"
      ],
      "metadata": {
        "colab": {
          "base_uri": "https://localhost:8080/",
          "height": 358
        },
        "id": "e-nutRbpRzpd",
        "outputId": "f1932d78-0ba1-478b-8c9a-9e9f84b0ad4b"
      },
      "execution_count": 6,
      "outputs": [
        {
          "output_type": "error",
          "ename": "ValueError",
          "evalue": "ignored",
          "traceback": [
            "\u001b[0;31m---------------------------------------------------------------------------\u001b[0m",
            "\u001b[0;31mValueError\u001b[0m                                Traceback (most recent call last)",
            "\u001b[0;32m<ipython-input-6-9116c23a5942>\u001b[0m in \u001b[0;36m<module>\u001b[0;34m()\u001b[0m\n\u001b[1;32m      8\u001b[0m                B_tilde @ ones >= d_tilde]\n\u001b[1;32m      9\u001b[0m \u001b[0;34m\u001b[0m\u001b[0m\n\u001b[0;32m---> 10\u001b[0;31m \u001b[0mprob\u001b[0m \u001b[0;34m=\u001b[0m \u001b[0mcp\u001b[0m\u001b[0;34m.\u001b[0m\u001b[0mProblem\u001b[0m\u001b[0;34m(\u001b[0m\u001b[0mobjective\u001b[0m\u001b[0;34m,\u001b[0m \u001b[0mconstraints\u001b[0m\u001b[0;34m)\u001b[0m\u001b[0;34m\u001b[0m\u001b[0;34m\u001b[0m\u001b[0m\n\u001b[0m\u001b[1;32m     11\u001b[0m \u001b[0mprob\u001b[0m\u001b[0;34m.\u001b[0m\u001b[0msolve\u001b[0m\u001b[0;34m(\u001b[0m\u001b[0;34m)\u001b[0m\u001b[0;34m\u001b[0m\u001b[0;34m\u001b[0m\u001b[0m\n",
            "\u001b[0;32m/usr/local/lib/python3.7/dist-packages/cvxpy/problems/problem.py\u001b[0m in \u001b[0;36m__init__\u001b[0;34m(self, objective, constraints)\u001b[0m\n\u001b[1;32m    149\u001b[0m         \u001b[0;31m# Constraints and objective are immutable.\u001b[0m\u001b[0;34m\u001b[0m\u001b[0;34m\u001b[0m\u001b[0;34m\u001b[0m\u001b[0m\n\u001b[1;32m    150\u001b[0m         \u001b[0mself\u001b[0m\u001b[0;34m.\u001b[0m\u001b[0m_objective\u001b[0m \u001b[0;34m=\u001b[0m \u001b[0mobjective\u001b[0m\u001b[0;34m\u001b[0m\u001b[0;34m\u001b[0m\u001b[0m\n\u001b[0;32m--> 151\u001b[0;31m         \u001b[0mself\u001b[0m\u001b[0;34m.\u001b[0m\u001b[0m_constraints\u001b[0m \u001b[0;34m=\u001b[0m \u001b[0;34m[\u001b[0m\u001b[0m_validate_constraint\u001b[0m\u001b[0;34m(\u001b[0m\u001b[0mc\u001b[0m\u001b[0;34m)\u001b[0m \u001b[0;32mfor\u001b[0m \u001b[0mc\u001b[0m \u001b[0;32min\u001b[0m \u001b[0mconstraints\u001b[0m\u001b[0;34m]\u001b[0m\u001b[0;34m\u001b[0m\u001b[0;34m\u001b[0m\u001b[0m\n\u001b[0m\u001b[1;32m    152\u001b[0m         \u001b[0mself\u001b[0m\u001b[0;34m.\u001b[0m\u001b[0m_value\u001b[0m \u001b[0;34m=\u001b[0m \u001b[0;32mNone\u001b[0m\u001b[0;34m\u001b[0m\u001b[0;34m\u001b[0m\u001b[0m\n\u001b[1;32m    153\u001b[0m         \u001b[0mself\u001b[0m\u001b[0;34m.\u001b[0m\u001b[0m_status\u001b[0m\u001b[0;34m:\u001b[0m \u001b[0mOptional\u001b[0m\u001b[0;34m[\u001b[0m\u001b[0mstr\u001b[0m\u001b[0;34m]\u001b[0m \u001b[0;34m=\u001b[0m \u001b[0;32mNone\u001b[0m\u001b[0;34m\u001b[0m\u001b[0;34m\u001b[0m\u001b[0m\n",
            "\u001b[0;32m/usr/local/lib/python3.7/dist-packages/cvxpy/problems/problem.py\u001b[0m in \u001b[0;36m<listcomp>\u001b[0;34m(.0)\u001b[0m\n\u001b[1;32m    149\u001b[0m         \u001b[0;31m# Constraints and objective are immutable.\u001b[0m\u001b[0;34m\u001b[0m\u001b[0;34m\u001b[0m\u001b[0;34m\u001b[0m\u001b[0m\n\u001b[1;32m    150\u001b[0m         \u001b[0mself\u001b[0m\u001b[0;34m.\u001b[0m\u001b[0m_objective\u001b[0m \u001b[0;34m=\u001b[0m \u001b[0mobjective\u001b[0m\u001b[0;34m\u001b[0m\u001b[0;34m\u001b[0m\u001b[0m\n\u001b[0;32m--> 151\u001b[0;31m         \u001b[0mself\u001b[0m\u001b[0;34m.\u001b[0m\u001b[0m_constraints\u001b[0m \u001b[0;34m=\u001b[0m \u001b[0;34m[\u001b[0m\u001b[0m_validate_constraint\u001b[0m\u001b[0;34m(\u001b[0m\u001b[0mc\u001b[0m\u001b[0;34m)\u001b[0m \u001b[0;32mfor\u001b[0m \u001b[0mc\u001b[0m \u001b[0;32min\u001b[0m \u001b[0mconstraints\u001b[0m\u001b[0;34m]\u001b[0m\u001b[0;34m\u001b[0m\u001b[0;34m\u001b[0m\u001b[0m\n\u001b[0m\u001b[1;32m    152\u001b[0m         \u001b[0mself\u001b[0m\u001b[0;34m.\u001b[0m\u001b[0m_value\u001b[0m \u001b[0;34m=\u001b[0m \u001b[0;32mNone\u001b[0m\u001b[0;34m\u001b[0m\u001b[0;34m\u001b[0m\u001b[0m\n\u001b[1;32m    153\u001b[0m         \u001b[0mself\u001b[0m\u001b[0;34m.\u001b[0m\u001b[0m_status\u001b[0m\u001b[0;34m:\u001b[0m \u001b[0mOptional\u001b[0m\u001b[0;34m[\u001b[0m\u001b[0mstr\u001b[0m\u001b[0;34m]\u001b[0m \u001b[0;34m=\u001b[0m \u001b[0;32mNone\u001b[0m\u001b[0;34m\u001b[0m\u001b[0;34m\u001b[0m\u001b[0m\n",
            "\u001b[0;32m/usr/local/lib/python3.7/dist-packages/cvxpy/problems/problem.py\u001b[0m in \u001b[0;36m_validate_constraint\u001b[0;34m(constraint)\u001b[0m\n\u001b[1;32m    119\u001b[0m     \u001b[0;32melse\u001b[0m\u001b[0;34m:\u001b[0m\u001b[0;34m\u001b[0m\u001b[0;34m\u001b[0m\u001b[0m\n\u001b[1;32m    120\u001b[0m         raise ValueError(\"Problem has an invalid constraint of type %s\" %\n\u001b[0;32m--> 121\u001b[0;31m                          type(constraint))\n\u001b[0m\u001b[1;32m    122\u001b[0m \u001b[0;34m\u001b[0m\u001b[0m\n\u001b[1;32m    123\u001b[0m \u001b[0;34m\u001b[0m\u001b[0m\n",
            "\u001b[0;31mValueError\u001b[0m: Problem has an invalid constraint of type <class 'numpy.ndarray'>"
          ]
        }
      ]
    }
  ]
}