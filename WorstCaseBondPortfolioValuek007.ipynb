{
 "cells": [
  {
   "cell_type": "code",
   "execution_count": 1,
   "metadata": {
    "colab": {
     "base_uri": "https://localhost:8080/"
    },
    "id": "GZadZaDezt9S",
    "outputId": "16fda0d6-6dfa-4c23-b811-0adb52017fa5"
   },
   "outputs": [
    {
     "name": "stdout",
     "output_type": "stream",
     "text": [
      "Looking in indexes: https://pypi.org/simple, https://us-python.pkg.dev/colab-wheels/public/simple/\n",
      "Requirement already satisfied: cvxpy in /usr/local/lib/python3.7/dist-packages (1.2.1)\n",
      "Requirement already satisfied: scs>=1.1.6 in /usr/local/lib/python3.7/dist-packages (from cvxpy) (3.2.0)\n",
      "Requirement already satisfied: osqp>=0.4.1 in /usr/local/lib/python3.7/dist-packages (from cvxpy) (0.6.2.post0)\n",
      "Requirement already satisfied: ecos>=2 in /usr/local/lib/python3.7/dist-packages (from cvxpy) (2.0.10)\n",
      "Requirement already satisfied: scipy>=1.1.0 in /usr/local/lib/python3.7/dist-packages (from cvxpy) (1.7.3)\n",
      "Requirement already satisfied: numpy>=1.15 in /usr/local/lib/python3.7/dist-packages (from cvxpy) (1.21.6)\n",
      "Requirement already satisfied: qdldl in /usr/local/lib/python3.7/dist-packages (from osqp>=0.4.1->cvxpy) (0.1.5.post2)\n"
     ]
    }
   ],
   "source": [
    "pip install cvxpy"
   ]
  },
  {
   "cell_type": "code",
   "execution_count": 2,
   "metadata": {
    "id": "0NxXBmAtzyNx"
   },
   "outputs": [],
   "source": [
    "import cvxpy as cp\n",
    "import numpy as np\n",
    "import matplotlib.pyplot as plt"
   ]
  },
  {
   "cell_type": "code",
   "execution_count": 3,
   "metadata": {
    "id": "Z_pCx32L8yO-"
   },
   "outputs": [],
   "source": [
    "from worst_case_bond_price_data import *"
   ]
  },
  {
   "cell_type": "markdown",
   "metadata": {
    "id": "8PXe6wPIPLLD"
   },
   "source": [
    "We solve for $V^{nom}$"
   ]
  },
  {
   "cell_type": "code",
   "execution_count": 4,
   "metadata": {
    "id": "YFTu_0on9CNj"
   },
   "outputs": [],
   "source": [
    "delta = cp.Variable(T)"
   ]
  },
  {
   "cell_type": "code",
   "execution_count": 5,
   "metadata": {
    "id": "Z30mIIfRJ1X_"
   },
   "outputs": [],
   "source": [
    "p = [cp.exp(-t[i] * (y_nom[i]+delta[i])) for i in range(T)]"
   ]
  },
  {
   "cell_type": "code",
   "execution_count": 6,
   "metadata": {
    "id": "BPXqgrzw9nZi"
   },
   "outputs": [],
   "source": [
    "objective = cp.Minimize(c.T @ p)\n",
    "\n",
    "constraints = [\n",
    "    delta[0] == 0,\n",
    "    np.ones(T).T @ delta == 0,\n",
    "    cp.sum_squares(cp.diff(delta)) <= cp.power(rho,2),\n",
    "    -kappa <= delta,\n",
    "    delta <= kappa\n",
    "]\n",
    "\n",
    "problem = cp.Problem(objective, constraints)\n",
    "result = problem.solve(solver='SCS')"
   ]
  },
  {
   "cell_type": "code",
   "execution_count": 7,
   "metadata": {
    "colab": {
     "base_uri": "https://localhost:8080/"
    },
    "id": "Bko2RId6LAlo",
    "outputId": "fc92a94e-fd70-4a06-f513-40e6ec5e1712"
   },
   "outputs": [
    {
     "name": "stdout",
     "output_type": "stream",
     "text": [
      "V^{nom} is 11.017072996239953\n"
     ]
    }
   ],
   "source": [
    "print(\"V^{nom} is\",result)"
   ]
  },
  {
   "cell_type": "markdown",
   "metadata": {
    "id": "KkAYKdXYOZqU"
   },
   "source": [
    "We can also solve for $V^{\\mathrm{wc}}=\\min \\left\\{c^{T} p \\mid y \\in \\mathcal{Y}\\right\\}$"
   ]
  },
  {
   "cell_type": "code",
   "execution_count": 8,
   "metadata": {
    "id": "Em-NYt6NNvSx"
   },
   "outputs": [],
   "source": [
    "y = cp.Variable(T)"
   ]
  },
  {
   "cell_type": "code",
   "execution_count": 9,
   "metadata": {
    "id": "mk1YHOxdMKKH"
   },
   "outputs": [],
   "source": [
    "p2 = [cp.exp(-t[i] * y[i]) for i in range(T)]"
   ]
  },
  {
   "cell_type": "code",
   "execution_count": 10,
   "metadata": {
    "id": "YeIfpWh5ODb-"
   },
   "outputs": [],
   "source": [
    "objective2 = cp.Minimize(c.T @ p2)\n",
    "\n",
    "problem2 = cp.Problem(objective2)\n",
    "result2 = problem2.solve()"
   ]
  },
  {
   "cell_type": "code",
   "execution_count": 11,
   "metadata": {
    "colab": {
     "base_uri": "https://localhost:8080/"
    },
    "id": "Dbe9UNfWOMGy",
    "outputId": "4024294d-af3e-4518-851d-42e5f3578f58"
   },
   "outputs": [
    {
     "name": "stdout",
     "output_type": "stream",
     "text": [
      "V^{wc} is 2.6017830306212037e-09\n"
     ]
    }
   ],
   "source": [
    "print(\"V^{wc} is\", result2)"
   ]
  },
  {
   "cell_type": "code",
   "execution_count": 12,
   "metadata": {
    "colab": {
     "base_uri": "https://localhost:8080/",
     "height": 265
    },
    "id": "qrhCY-kiPZq7",
    "outputId": "274b7551-384c-47b1-88c9-b5aa5ee97b4d"
   },
   "outputs": [
    {
     "data": {
      "image/png": "[encoded data removed]",
      "text/plain": [
       "<Figure size 432x288 with 1 Axes>"
      ]
     },
     "metadata": {
      "needs_background": "light"
     },
     "output_type": "display_data"
    }
   ],
   "source": [
    "plt.plot(y.value, label=\"WC yield curve\")\n",
    "plt.plot(y_nom, label=\"Nominal yield curve\")\n",
    "plt.legend()\n",
    "plt.show()"
   ]
  },
  {
   "cell_type": "code",
   "execution_count": 13,
   "metadata": {
    "colab": {
     "base_uri": "https://localhost:8080/",
     "height": 265
    },
    "id": "clDuMs_FOMn3",
    "outputId": "a4ca999a-6c2b-460d-fd4f-aeae802239c0"
   },
   "outputs": [
    {
     "data": {
      "image/png": "[encoded data removed]",
      "text/plain": [
       "<Figure size 432x288 with 1 Axes>"
      ]
     },
     "metadata": {
      "needs_background": "light"
     },
     "output_type": "display_data"
    }
   ],
   "source": [
    "plt.plot(y_nom)\n",
    "plt.plot(y_nom + delta.value)\n",
    "plt.show()"
   ]
  }
 ],
 "metadata": {
  "colab": {
   "collapsed_sections": [],
   "name": "WorstCaseBondPortfolioValue.ipynb",
   "provenance": []
  },
  "kernelspec": {
   "display_name": "Python 3 (ipykernel)",
   "language": "python",
   "name": "python3"
  },
  "language_info": {
   "codemirror_mode": {
    "name": "ipython",
    "version": 3
   },
   "file_extension": ".py",
   "mimetype": "text/x-python",
   "name": "python",
   "nbconvert_exporter": "python",
   "pygments_lexer": "ipython3",
   "version": "3.10.2"
  }
 },
 "nbformat": 4,
 "nbformat_minor": 1
}
